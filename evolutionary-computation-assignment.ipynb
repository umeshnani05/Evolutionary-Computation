{
 "cells": [
  {
   "cell_type": "code",
   "execution_count": 1,
   "id": "6294366d",
   "metadata": {
    "execution": {
     "iopub.execute_input": "2024-03-11T12:20:25.920043Z",
     "iopub.status.busy": "2024-03-11T12:20:25.919677Z",
     "iopub.status.idle": "2024-03-11T12:20:27.617983Z",
     "shell.execute_reply": "2024-03-11T12:20:27.617055Z"
    },
    "papermill": {
     "duration": 1.710883,
     "end_time": "2024-03-11T12:20:27.620380",
     "exception": false,
     "start_time": "2024-03-11T12:20:25.909497",
     "status": "completed"
    },
    "tags": []
   },
   "outputs": [],
   "source": [
    "import numpy as np \n",
    "import pandas as pd \n",
    "import os\n",
    "import matplotlib.pyplot as plt\n",
    "%matplotlib inline\n",
    "import seaborn as sns"
   ]
  },
  {
   "cell_type": "code",
   "execution_count": 2,
   "id": "12799a2e",
   "metadata": {
    "execution": {
     "iopub.execute_input": "2024-03-11T12:20:27.638662Z",
     "iopub.status.busy": "2024-03-11T12:20:27.638248Z",
     "iopub.status.idle": "2024-03-11T12:20:34.089045Z",
     "shell.execute_reply": "2024-03-11T12:20:34.088220Z"
    },
    "papermill": {
     "duration": 6.462388,
     "end_time": "2024-03-11T12:20:34.091379",
     "exception": false,
     "start_time": "2024-03-11T12:20:27.628991",
     "status": "completed"
    },
    "tags": []
   },
   "outputs": [],
   "source": [
    "import pandas as pd\n",
    "\n",
    "encoding = 'ISO-8859-1'\n",
    "col_names = ['Sentiment', 'Twtter_Id', 'Date', 'Flag', 'UserName', 'Tweet']\n",
    "\n",
    "# Non-Depressive Tweets\n",
    "dataset = pd.read_csv('/kaggle/input/evolutionary-computation/training.1600000.processed.noemoticon.csv', encoding=encoding, names=col_names)\n",
    "dataset = dataset[dataset['Sentiment'] == 4]\n",
    "dataset = dataset[['Tweet', 'Sentiment']]\n",
    "\n",
    "# Replace values using loc to avoid chained assignment\n",
    "dataset.loc[:, 'Sentiment'] = dataset['Sentiment'].replace(4, 0)\n",
    "dataset = dataset.sample(15000, random_state=42)\n"
   ]
  },
  {
   "cell_type": "code",
   "execution_count": 3,
   "id": "2ed70fe8",
   "metadata": {
    "execution": {
     "iopub.execute_input": "2024-03-11T12:20:34.109335Z",
     "iopub.status.busy": "2024-03-11T12:20:34.109056Z",
     "iopub.status.idle": "2024-03-11T12:20:34.260578Z",
     "shell.execute_reply": "2024-03-11T12:20:34.259788Z"
    },
    "papermill": {
     "duration": 0.163027,
     "end_time": "2024-03-11T12:20:34.262866",
     "exception": false,
     "start_time": "2024-03-11T12:20:34.099839",
     "status": "completed"
    },
    "tags": []
   },
   "outputs": [],
   "source": [
    "dataset1 = pd.read_csv(\"/kaggle/input/evolutionary-computation/Mental-Health-Twitter.csv\",encoding=encoding)\n",
    "dataset1.rename(columns={'post_text': 'Tweet', 'label': 'Sentiment'}, inplace=True)\n",
    "dataset1 = dataset1[dataset1['Sentiment'] == 1]\n",
    "dataset1 = dataset1[['Tweet','Sentiment']]\n",
    "col_names = ['UserName','Tweet']\n",
    "dataset2 = pd.read_csv('/kaggle/input/evolutionary-computation/depressive_tweets_processed.csv', sep = '|', header = None, usecols = [4,5], nrows = 3200, names=col_names)\n",
    "dataset2['Sentiment'] = 1;\n",
    "dataset2 = dataset2[['Tweet','Sentiment']]\n"
   ]
  },
  {
   "cell_type": "code",
   "execution_count": 4,
   "id": "681a333a",
   "metadata": {
    "execution": {
     "iopub.execute_input": "2024-03-11T12:20:34.281177Z",
     "iopub.status.busy": "2024-03-11T12:20:34.280680Z",
     "iopub.status.idle": "2024-03-11T12:20:34.291943Z",
     "shell.execute_reply": "2024-03-11T12:20:34.291217Z"
    },
    "papermill": {
     "duration": 0.022545,
     "end_time": "2024-03-11T12:20:34.294079",
     "exception": false,
     "start_time": "2024-03-11T12:20:34.271534",
     "status": "completed"
    },
    "tags": []
   },
   "outputs": [],
   "source": [
    "dataset1 = pd.concat([dataset1,dataset2])\n",
    "dataset1 = dataset1.sample(frac = 1)\n",
    "dataset1.reset_index(drop=True, inplace=True)\n",
    "dataset = pd.concat([dataset,dataset1])\n",
    "dataset = dataset.sample(frac = 1)\n",
    "dataset.reset_index(drop=True, inplace=True)"
   ]
  },
  {
   "cell_type": "code",
   "execution_count": 5,
   "id": "3f1b4a07",
   "metadata": {
    "execution": {
     "iopub.execute_input": "2024-03-11T12:20:34.313326Z",
     "iopub.status.busy": "2024-03-11T12:20:34.312637Z",
     "iopub.status.idle": "2024-03-11T12:20:34.325999Z",
     "shell.execute_reply": "2024-03-11T12:20:34.325264Z"
    },
    "papermill": {
     "duration": 0.024845,
     "end_time": "2024-03-11T12:20:34.328208",
     "exception": false,
     "start_time": "2024-03-11T12:20:34.303363",
     "status": "completed"
    },
    "scrolled": true,
    "tags": []
   },
   "outputs": [],
   "source": [
    "df = dataset.copy()\n",
    "df.reset_index(drop=True, inplace=True)\n",
    "df.isnull()\n",
    "df.dropna(inplace=True)\n"
   ]
  },
  {
   "cell_type": "code",
   "execution_count": 6,
   "id": "bcc65e1b",
   "metadata": {
    "execution": {
     "iopub.execute_input": "2024-03-11T12:20:34.347491Z",
     "iopub.status.busy": "2024-03-11T12:20:34.346989Z",
     "iopub.status.idle": "2024-03-11T12:20:34.358229Z",
     "shell.execute_reply": "2024-03-11T12:20:34.357307Z"
    },
    "papermill": {
     "duration": 0.022945,
     "end_time": "2024-03-11T12:20:34.360688",
     "exception": false,
     "start_time": "2024-03-11T12:20:34.337743",
     "status": "completed"
    },
    "scrolled": true,
    "tags": []
   },
   "outputs": [
    {
     "data": {
      "text/plain": [
       "Tweet        0\n",
       "Sentiment    0\n",
       "dtype: int64"
      ]
     },
     "execution_count": 6,
     "metadata": {},
     "output_type": "execute_result"
    }
   ],
   "source": [
    "df.isnull().sum()"
   ]
  },
  {
   "cell_type": "code",
   "execution_count": 7,
   "id": "320f7a57",
   "metadata": {
    "execution": {
     "iopub.execute_input": "2024-03-11T12:20:34.380474Z",
     "iopub.status.busy": "2024-03-11T12:20:34.380208Z",
     "iopub.status.idle": "2024-03-11T12:20:57.243944Z",
     "shell.execute_reply": "2024-03-11T12:20:57.243089Z"
    },
    "papermill": {
     "duration": 22.876411,
     "end_time": "2024-03-11T12:20:57.246450",
     "exception": false,
     "start_time": "2024-03-11T12:20:34.370039",
     "status": "completed"
    },
    "scrolled": true,
    "tags": []
   },
   "outputs": [
    {
     "name": "stdout",
     "output_type": "stream",
     "text": [
      "Requirement already satisfied: spacy in /opt/conda/lib/python3.10/site-packages (3.7.2)\r\n",
      "Requirement already satisfied: nltk in /opt/conda/lib/python3.10/site-packages (3.2.4)\r\n",
      "Requirement already satisfied: spacy-legacy<3.1.0,>=3.0.11 in /opt/conda/lib/python3.10/site-packages (from spacy) (3.0.12)\r\n",
      "Requirement already satisfied: spacy-loggers<2.0.0,>=1.0.0 in /opt/conda/lib/python3.10/site-packages (from spacy) (1.0.5)\r\n",
      "Requirement already satisfied: murmurhash<1.1.0,>=0.28.0 in /opt/conda/lib/python3.10/site-packages (from spacy) (1.0.10)\r\n",
      "Requirement already satisfied: cymem<2.1.0,>=2.0.2 in /opt/conda/lib/python3.10/site-packages (from spacy) (2.0.8)\r\n",
      "Requirement already satisfied: preshed<3.1.0,>=3.0.2 in /opt/conda/lib/python3.10/site-packages (from spacy) (3.0.9)\r\n",
      "Requirement already satisfied: thinc<8.3.0,>=8.1.8 in /opt/conda/lib/python3.10/site-packages (from spacy) (8.2.2)\r\n",
      "Requirement already satisfied: wasabi<1.2.0,>=0.9.1 in /opt/conda/lib/python3.10/site-packages (from spacy) (1.1.2)\r\n",
      "Requirement already satisfied: srsly<3.0.0,>=2.4.3 in /opt/conda/lib/python3.10/site-packages (from spacy) (2.4.8)\r\n",
      "Requirement already satisfied: catalogue<2.1.0,>=2.0.6 in /opt/conda/lib/python3.10/site-packages (from spacy) (2.0.10)\r\n",
      "Requirement already satisfied: weasel<0.4.0,>=0.1.0 in /opt/conda/lib/python3.10/site-packages (from spacy) (0.3.4)\r\n",
      "Requirement already satisfied: typer<0.10.0,>=0.3.0 in /opt/conda/lib/python3.10/site-packages (from spacy) (0.9.0)\r\n",
      "Requirement already satisfied: smart-open<7.0.0,>=5.2.1 in /opt/conda/lib/python3.10/site-packages (from spacy) (6.4.0)\r\n",
      "Requirement already satisfied: tqdm<5.0.0,>=4.38.0 in /opt/conda/lib/python3.10/site-packages (from spacy) (4.66.1)\r\n",
      "Requirement already satisfied: requests<3.0.0,>=2.13.0 in /opt/conda/lib/python3.10/site-packages (from spacy) (2.31.0)\r\n",
      "Requirement already satisfied: pydantic!=1.8,!=1.8.1,<3.0.0,>=1.7.4 in /opt/conda/lib/python3.10/site-packages (from spacy) (2.5.3)\r\n",
      "Requirement already satisfied: jinja2 in /opt/conda/lib/python3.10/site-packages (from spacy) (3.1.2)\r\n",
      "Requirement already satisfied: setuptools in /opt/conda/lib/python3.10/site-packages (from spacy) (69.0.3)\r\n",
      "Requirement already satisfied: packaging>=20.0 in /opt/conda/lib/python3.10/site-packages (from spacy) (21.3)\r\n",
      "Requirement already satisfied: langcodes<4.0.0,>=3.2.0 in /opt/conda/lib/python3.10/site-packages (from spacy) (3.3.0)\r\n",
      "Requirement already satisfied: numpy>=1.19.0 in /opt/conda/lib/python3.10/site-packages (from spacy) (1.26.4)\r\n",
      "Requirement already satisfied: six in /opt/conda/lib/python3.10/site-packages (from nltk) (1.16.0)\r\n",
      "Requirement already satisfied: pyparsing!=3.0.5,>=2.0.2 in /opt/conda/lib/python3.10/site-packages (from packaging>=20.0->spacy) (3.1.1)\r\n",
      "Requirement already satisfied: annotated-types>=0.4.0 in /opt/conda/lib/python3.10/site-packages (from pydantic!=1.8,!=1.8.1,<3.0.0,>=1.7.4->spacy) (0.6.0)\r\n",
      "Requirement already satisfied: pydantic-core==2.14.6 in /opt/conda/lib/python3.10/site-packages (from pydantic!=1.8,!=1.8.1,<3.0.0,>=1.7.4->spacy) (2.14.6)\r\n",
      "Requirement already satisfied: typing-extensions>=4.6.1 in /opt/conda/lib/python3.10/site-packages (from pydantic!=1.8,!=1.8.1,<3.0.0,>=1.7.4->spacy) (4.9.0)\r\n",
      "Requirement already satisfied: charset-normalizer<4,>=2 in /opt/conda/lib/python3.10/site-packages (from requests<3.0.0,>=2.13.0->spacy) (3.3.2)\r\n",
      "Requirement already satisfied: idna<4,>=2.5 in /opt/conda/lib/python3.10/site-packages (from requests<3.0.0,>=2.13.0->spacy) (3.6)\r\n",
      "Requirement already satisfied: urllib3<3,>=1.21.1 in /opt/conda/lib/python3.10/site-packages (from requests<3.0.0,>=2.13.0->spacy) (1.26.18)\r\n",
      "Requirement already satisfied: certifi>=2017.4.17 in /opt/conda/lib/python3.10/site-packages (from requests<3.0.0,>=2.13.0->spacy) (2024.2.2)\r\n",
      "Requirement already satisfied: blis<0.8.0,>=0.7.8 in /opt/conda/lib/python3.10/site-packages (from thinc<8.3.0,>=8.1.8->spacy) (0.7.10)\r\n",
      "Requirement already satisfied: confection<1.0.0,>=0.0.1 in /opt/conda/lib/python3.10/site-packages (from thinc<8.3.0,>=8.1.8->spacy) (0.1.4)\r\n",
      "Requirement already satisfied: click<9.0.0,>=7.1.1 in /opt/conda/lib/python3.10/site-packages (from typer<0.10.0,>=0.3.0->spacy) (8.1.7)\r\n",
      "Requirement already satisfied: cloudpathlib<0.17.0,>=0.7.0 in /opt/conda/lib/python3.10/site-packages (from weasel<0.4.0,>=0.1.0->spacy) (0.16.0)\r\n",
      "Requirement already satisfied: MarkupSafe>=2.0 in /opt/conda/lib/python3.10/site-packages (from jinja2->spacy) (2.1.3)\r\n",
      "[nltk_data] Downloading package stopwords to /usr/share/nltk_data...\n",
      "[nltk_data]   Package stopwords is already up-to-date!\n",
      "[nltk_data] Downloading package punkt to /usr/share/nltk_data...\n",
      "[nltk_data]   Package punkt is already up-to-date!\n",
      "[nltk_data] Downloading package wordnet to /usr/share/nltk_data...\n",
      "[nltk_data]   Package wordnet is already up-to-date!\n"
     ]
    }
   ],
   "source": [
    "!pip install spacy nltk\n",
    "\n",
    "import nltk\n",
    "from nltk.corpus import stopwords\n",
    "from nltk.tokenize import word_tokenize\n",
    "import spacy\n",
    "\n",
    "nltk.download('stopwords')\n",
    "nltk.download('punkt')\n",
    "nltk.download('wordnet')\n",
    "# Load the English language model from spaCy\n",
    "nlp = spacy.load('en_core_web_sm')\n"
   ]
  },
  {
   "cell_type": "code",
   "execution_count": 8,
   "id": "f11e1b85",
   "metadata": {
    "execution": {
     "iopub.execute_input": "2024-03-11T12:20:57.266639Z",
     "iopub.status.busy": "2024-03-11T12:20:57.266080Z",
     "iopub.status.idle": "2024-03-11T12:20:58.507597Z",
     "shell.execute_reply": "2024-03-11T12:20:58.506410Z"
    },
    "papermill": {
     "duration": 1.253886,
     "end_time": "2024-03-11T12:20:58.509913",
     "exception": false,
     "start_time": "2024-03-11T12:20:57.256027",
     "status": "completed"
    },
    "tags": []
   },
   "outputs": [
    {
     "name": "stdout",
     "output_type": "stream",
     "text": [
      "Archive:  /usr/share/nltk_data/corpora/wordnet.zip\r\n",
      "   creating: /usr/share/nltk_data/corpora/wordnet/\r\n",
      "  inflating: /usr/share/nltk_data/corpora/wordnet/lexnames  \r\n",
      "  inflating: /usr/share/nltk_data/corpora/wordnet/data.verb  \r\n",
      "  inflating: /usr/share/nltk_data/corpora/wordnet/index.adv  \r\n",
      "  inflating: /usr/share/nltk_data/corpora/wordnet/adv.exc  \r\n",
      "  inflating: /usr/share/nltk_data/corpora/wordnet/index.verb  \r\n",
      "  inflating: /usr/share/nltk_data/corpora/wordnet/cntlist.rev  \r\n",
      "  inflating: /usr/share/nltk_data/corpora/wordnet/data.adj  \r\n",
      "  inflating: /usr/share/nltk_data/corpora/wordnet/index.adj  \r\n",
      "  inflating: /usr/share/nltk_data/corpora/wordnet/LICENSE  \r\n",
      "  inflating: /usr/share/nltk_data/corpora/wordnet/citation.bib  \r\n",
      "  inflating: /usr/share/nltk_data/corpora/wordnet/noun.exc  \r\n",
      "  inflating: /usr/share/nltk_data/corpora/wordnet/verb.exc  \r\n",
      "  inflating: /usr/share/nltk_data/corpora/wordnet/README  \r\n",
      "  inflating: /usr/share/nltk_data/corpora/wordnet/index.sense  \r\n",
      "  inflating: /usr/share/nltk_data/corpora/wordnet/data.noun  \r\n",
      "  inflating: /usr/share/nltk_data/corpora/wordnet/data.adv  \r\n",
      "  inflating: /usr/share/nltk_data/corpora/wordnet/index.noun  \r\n",
      "  inflating: /usr/share/nltk_data/corpora/wordnet/adj.exc  \r\n"
     ]
    }
   ],
   "source": [
    "\n",
    "!unzip /usr/share/nltk_data/corpora/wordnet.zip -d /usr/share/nltk_data/corpora/\n"
   ]
  },
  {
   "cell_type": "code",
   "execution_count": 9,
   "id": "ff553e98",
   "metadata": {
    "execution": {
     "iopub.execute_input": "2024-03-11T12:20:58.531371Z",
     "iopub.status.busy": "2024-03-11T12:20:58.531025Z",
     "iopub.status.idle": "2024-03-11T12:21:10.966326Z",
     "shell.execute_reply": "2024-03-11T12:21:10.965499Z"
    },
    "papermill": {
     "duration": 12.448422,
     "end_time": "2024-03-11T12:21:10.968801",
     "exception": false,
     "start_time": "2024-03-11T12:20:58.520379",
     "status": "completed"
    },
    "tags": []
   },
   "outputs": [],
   "source": [
    "import pandas as pd\n",
    "import nltk\n",
    "from nltk.stem import WordNetLemmatizer\n",
    "from nltk.corpus import stopwords\n",
    "\n",
    "# Initialize WordNetLemmatizer and download stopwords if not already downloaded\n",
    "lemmatizer = WordNetLemmatizer()\n",
    "\n",
    "# Lemmatization function\n",
    "def lemmatize_text(text):\n",
    "    words = nltk.word_tokenize(text)\n",
    "    words = [lemmatizer.lemmatize(word) for word in words]\n",
    "    return ' '.join(words)\n",
    "\n",
    "# Apply the lemmatization function to the 'Tweets' column\n",
    "df[\"Tweet\"] = df[\"Tweet\"].apply(lemmatize_text)\n"
   ]
  },
  {
   "cell_type": "code",
   "execution_count": 10,
   "id": "963c7ab2",
   "metadata": {
    "execution": {
     "iopub.execute_input": "2024-03-11T12:21:10.989355Z",
     "iopub.status.busy": "2024-03-11T12:21:10.989071Z",
     "iopub.status.idle": "2024-03-11T12:21:22.985056Z",
     "shell.execute_reply": "2024-03-11T12:21:22.984258Z"
    },
    "papermill": {
     "duration": 12.009061,
     "end_time": "2024-03-11T12:21:22.987528",
     "exception": false,
     "start_time": "2024-03-11T12:21:10.978467",
     "status": "completed"
    },
    "tags": []
   },
   "outputs": [],
   "source": [
    "import re\n",
    "import string\n",
    "import pandas as pd\n",
    "from nltk.stem import WordNetLemmatizer\n",
    "from nltk.corpus import stopwords\n",
    "\n",
    "\n",
    "contraction_mapping = {\"ain't\": \"is not\", \"aren't\": \"are not\",\"can't\": \"cannot\", \"'cause\": \"because\", \"could've\": \"could have\", \"couldn't\": \"could not\",\n",
    "                           \"didn't\": \"did not\",  \"doesn't\": \"does not\", \"don't\": \"do not\", \"hadn't\": \"had not\", \"hasn't\": \"has not\", \"haven't\": \"have not\",\n",
    "                           \"he'd\": \"he would\",\"he'll\": \"he will\", \"he's\": \"he is\", \"how'd\": \"how did\", \"how'd'y\": \"how do you\", \"how'll\": \"how will\", \"how's\": \"how is\",\n",
    "                           \"I'd\": \"I would\", \"I'd've\": \"I would have\", \"I'll\": \"I will\", \"I'll've\": \"I will have\",\"I'm\": \"I am\", \"I've\": \"I have\", \"i'd\": \"i would\",\n",
    "                           \"i'd've\": \"i would have\", \"i'll\": \"i will\",  \"i'll've\": \"i will have\",\"i'm\": \"i am\", \"i've\": \"i have\", \"isn't\": \"is not\", \"it'd\": \"it would\",\n",
    "                           \"it'd've\": \"it would have\", \"it'll\": \"it will\", \"it'll've\": \"it will have\",\"it's\": \"it is\", \"let's\": \"let us\", \"ma'am\": \"madam\",\n",
    "                           \"mayn't\": \"may not\", \"might've\": \"might have\",\"mightn't\": \"might not\",\"mightn't've\": \"might not have\", \"must've\": \"must have\",\n",
    "                           \"mustn't\": \"must not\", \"mustn't've\": \"must not have\", \"needn't\": \"need not\", \"needn't've\": \"need not have\",\"o'clock\": \"of the clock\",\n",
    "                           \"oughtn't\": \"ought not\", \"oughtn't've\": \"ought not have\", \"shan't\": \"shall not\", \"sha'n't\": \"shall not\", \"shan't've\": \"shall not have\",\n",
    "                           \"she'd\": \"she would\", \"she'd've\": \"she would have\", \"she'll\": \"she will\", \"she'll've\": \"she will have\", \"she's\": \"she is\",\n",
    "                           \"should've\": \"should have\", \"shouldn't\": \"should not\", \"shouldn't've\": \"should not have\", \"so've\": \"so have\",\"so's\": \"so as\",\n",
    "                           \"this's\": \"this is\",\"that'd\": \"that would\", \"that'd've\": \"that would have\", \"that's\": \"that is\", \"there'd\": \"there would\",\n",
    "                           \"there'd've\": \"there would have\", \"there's\": \"there is\", \"here's\": \"here is\",\"they'd\": \"they would\", \"they'd've\": \"they would have\",\n",
    "                           \"they'll\": \"they will\", \"they'll've\": \"they will have\", \"they're\": \"they are\", \"they've\": \"they have\", \"to've\": \"to have\",\n",
    "                           \"wasn't\": \"was not\", \"we'd\": \"we would\", \"we'd've\": \"we would have\", \"we'll\": \"we will\", \"we'll've\": \"we will have\", \"we're\": \"we are\",\n",
    "                           \"we've\": \"we have\", \"weren't\": \"were not\", \"what'll\": \"what will\", \"what'll've\": \"what will have\", \"what're\": \"what are\",\n",
    "                           \"what's\": \"what is\", \"what've\": \"what have\", \"when's\": \"when is\", \"when've\": \"when have\", \"where'd\": \"where did\", \"where's\": \"where is\",\n",
    "                           \"where've\": \"where have\", \"who'll\": \"who will\", \"who'll've\": \"who will have\", \"who's\": \"who is\", \"who've\": \"who have\",\n",
    "                           \"why's\": \"why is\", \"why've\": \"why have\", \"will've\": \"will have\", \"won't\": \"will not\", \"won't've\": \"will not have\",\n",
    "                           \"would've\": \"would have\", \"wouldn't\": \"would not\", \"wouldn't've\": \"would not have\", \"y'all\": \"you all\",\n",
    "                           \"y'all'd\": \"you all would\",\"y'all'd've\": \"you all would have\",\"y'all're\": \"you all are\",\"y'all've\": \"you all have\",\n",
    "                           \"you'd\": \"you would\", \"you'd've\": \"you would have\", \"you'll\": \"you will\", \"you'll've\": \"you will have\",\n",
    "                           \"you're\": \"you are\", \"you've\": \"you have\"}\n",
    "\n",
    "\n",
    "def text_transformation(text):\n",
    "    if isinstance(text, str):\n",
    "        text = text.lower() #LOWER CASE\n",
    "        text = ' '.join([contraction_mapping[t] if t in contraction_mapping else t for t in text.split(\" \")])  \n",
    "        text = re.sub('\\[.*?\\]', '', text) #REMOVES BRACKETS AND BTW THEM\n",
    "        text = re.sub(\"\\\\W\",\" \",text) #REMOVES NON-WORDS\n",
    "        text = re.sub('https?://\\S+|www\\.\\S+', '', text) #REMOVES LINKS\n",
    "        text = re.sub('<.*?>+', '', text) #REMOVES HTML TAGS\n",
    "        text = re.sub('[%s]' % re.escape(string.punctuation), '', text) #REMOVES PUNCUTATIONS\n",
    "        text = re.sub('\\n', '', text) #REMOVES NEW LINES\n",
    "        text = re.sub('\\w*\\d\\w*', '', text)  #REMOVES ALPHA NUMERICAL  \n",
    "        text = re.sub(' +', ' ', text)  # Replace multiple spaces with a single space\n",
    "    return text\n",
    "\n",
    "df[\"Tweet\"] = df[\"Tweet\"].apply(lemmatize_text)\n",
    "df[\"Tweet\"] = df[\"Tweet\"].apply(text_transformation)"
   ]
  },
  {
   "cell_type": "code",
   "execution_count": 11,
   "id": "1d8d1c15",
   "metadata": {
    "execution": {
     "iopub.execute_input": "2024-03-11T12:21:23.008510Z",
     "iopub.status.busy": "2024-03-11T12:21:23.008185Z",
     "iopub.status.idle": "2024-03-11T12:21:23.543146Z",
     "shell.execute_reply": "2024-03-11T12:21:23.542313Z"
    },
    "papermill": {
     "duration": 0.547723,
     "end_time": "2024-03-11T12:21:23.545497",
     "exception": false,
     "start_time": "2024-03-11T12:21:22.997774",
     "status": "completed"
    },
    "tags": []
   },
   "outputs": [],
   "source": [
    "import nltk\n",
    "from nltk.corpus import stopwords\n",
    "\n",
    "# Define a custom list of generalized stopwords\n",
    "generalized_stopwords = [\n",
    "    'i','' 'me', 'my', 'myself', 'we', 'our', 'ours', 'ourselves',\n",
    "    'you', 'your', 'yours', 'yourself', 'yourselves',\n",
    "    'he', 'him', 'his', 'himself', 'she', 'her', 'hers', 'herself',\n",
    "    'it', 'its', 'itself', 'they', 'them', 'their', 'theirs', 'themselves',\n",
    "    'what', 'which', 'who', 'whom', 'this', 'that', 'these', 'those',\n",
    "    'a', 'an', 'at','the', 'and', 'but', 'if', 'or', 'because', 'as', 'until',\n",
    "    'while', 'of', 'at', 'by', 'for', 'with', 'about', 'against', 'between',\n",
    "    'into', 'through', 'during', 'before', 'after', 'above', 'below', 'to',\n",
    "    'from', 'up', 'down', 'in', 'out', 'im','on', 'off', 'over', 'under', 'again',\n",
    "    'further', 'then', 'once', 'here', 'there', 'when', 'where', 'why', 'how',\n",
    "    'all', 'any', 'both', \n",
    "    'each', 'few', 'more', 'most', 'other', 'some',\n",
    "    'such','only', 'own', 'same', 'so', 'than', 'too','https','twitter','tweet',\n",
    "]\n",
    "\n",
    "\n",
    "df[\"Tweet\"] = df[\"Tweet\"].apply(lambda x: \" \".join(x for x in x.split() if x not in generalized_stopwords))\n"
   ]
  },
  {
   "cell_type": "code",
   "execution_count": 12,
   "id": "80d9b310",
   "metadata": {
    "execution": {
     "iopub.execute_input": "2024-03-11T12:21:23.565958Z",
     "iopub.status.busy": "2024-03-11T12:21:23.565634Z",
     "iopub.status.idle": "2024-03-11T12:21:28.236085Z",
     "shell.execute_reply": "2024-03-11T12:21:28.234725Z"
    },
    "papermill": {
     "duration": 4.682765,
     "end_time": "2024-03-11T12:21:28.237837",
     "exception": true,
     "start_time": "2024-03-11T12:21:23.555072",
     "status": "failed"
    },
    "tags": []
   },
   "outputs": [
    {
     "ename": "NameError",
     "evalue": "name 'rect' is not defined",
     "output_type": "error",
     "traceback": [
      "\u001b[0;31m---------------------------------------------------------------------------\u001b[0m",
      "\u001b[0;31mNameError\u001b[0m                                 Traceback (most recent call last)",
      "Cell \u001b[0;32mIn[12], line 10\u001b[0m\n\u001b[1;32m      8\u001b[0m wordcloud \u001b[38;5;241m=\u001b[39m WordCloud(width \u001b[38;5;241m=\u001b[39m \u001b[38;5;241m1000\u001b[39m, height \u001b[38;5;241m=\u001b[39m \u001b[38;5;241m500\u001b[39m,background_color \u001b[38;5;241m=\u001b[39m\u001b[38;5;124m'\u001b[39m\u001b[38;5;124mwhite\u001b[39m\u001b[38;5;124m'\u001b[39m,min_font_size \u001b[38;5;241m=\u001b[39m \u001b[38;5;241m6\u001b[39m)\u001b[38;5;241m.\u001b[39mgenerate(word_cloud)\n\u001b[1;32m      9\u001b[0m fig, ax \u001b[38;5;241m=\u001b[39m plt\u001b[38;5;241m.\u001b[39msubplots(figsize\u001b[38;5;241m=\u001b[39m(\u001b[38;5;241m10\u001b[39m, \u001b[38;5;241m5\u001b[39m))\n\u001b[0;32m---> 10\u001b[0m ax\u001b[38;5;241m.\u001b[39madd_patch(\u001b[43mrect\u001b[49m)\n\u001b[1;32m     11\u001b[0m plt\u001b[38;5;241m.\u001b[39mimshow(wordcloud)\n",
      "\u001b[0;31mNameError\u001b[0m: name 'rect' is not defined"
     ]
    },
    {
     "data": {
      "image/png": "[encoded data removed]",
      "text/plain": [
       "<Figure size 1000x500 with 1 Axes>"
      ]
     },
     "metadata": {},
     "output_type": "display_data"
    }
   ],
   "source": [
    "from wordcloud import WordCloud\n",
    "import matplotlib as mpl\n",
    "mpl.rcParams['figure.figsize'] = 20,8\n",
    "word_cloud = \"\"\n",
    "for row in df['Tweet']:\n",
    "    for word in row:\n",
    "        word_cloud+=\" \".join(word)\n",
    "wordcloud = WordCloud(width = 1000, height = 500,background_color ='white',min_font_size = 6).generate(word_cloud)\n",
    "fig, ax = plt.subplots(figsize=(10, 5))\n",
    "ax.add_patch(rect)\n",
    "plt.imshow(wordcloud)"
   ]
  },
  {
   "cell_type": "code",
   "execution_count": null,
   "id": "807ec811",
   "metadata": {
    "execution": {
     "iopub.status.busy": "2024-03-11T09:32:49.845951Z",
     "iopub.status.idle": "2024-03-11T09:32:49.846266Z",
     "shell.execute_reply": "2024-03-11T09:32:49.846122Z",
     "shell.execute_reply.started": "2024-03-11T09:32:49.846109Z"
    },
    "papermill": {
     "duration": null,
     "end_time": null,
     "exception": null,
     "start_time": null,
     "status": "pending"
    },
    "scrolled": true,
    "tags": []
   },
   "outputs": [],
   "source": [
    "!pip install textblob\n",
    "# Lemmatization (to group similar words together)\n",
    "nltk.download(\"wordnet\")\n",
    "nltk.download(\"omw-1.4\")"
   ]
  },
  {
   "cell_type": "code",
   "execution_count": null,
   "id": "75024c80",
   "metadata": {
    "execution": {
     "iopub.execute_input": "2024-03-11T09:40:50.284569Z",
     "iopub.status.busy": "2024-03-11T09:40:50.283845Z",
     "iopub.status.idle": "2024-03-11T09:40:54.615197Z",
     "shell.execute_reply": "2024-03-11T09:40:54.613753Z",
     "shell.execute_reply.started": "2024-03-11T09:40:50.284538Z"
    },
    "papermill": {
     "duration": null,
     "end_time": null,
     "exception": null,
     "start_time": null,
     "status": "pending"
    },
    "scrolled": true,
    "tags": []
   },
   "outputs": [],
   "source": [
    "import pandas as pd\n",
    "from sklearn.feature_extraction.text import CountVectorizer, TfidfVectorizer\n",
    "from sklearn.model_selection import train_test_split\n",
    "from sklearn.svm import SVC\n",
    "from sklearn.ensemble import RandomForestClassifier\n",
    "from sklearn.metrics import accuracy_score\n",
    "from gensim.models import Word2Vec\n",
    "import nltk\n",
    "from sklearn.linear_model import LogisticRegression\n",
    "from sklearn.metrics import classification_report,confusion_matrix,accuracy_score\n",
    "from sklearn.tree import DecisionTreeClassifier\n",
    "\n",
    "def performance_eval(clf, X_test, y_test):\n",
    "    y_pred = clf.predict(X_test)\n",
    "\n",
    "    print(f'Accuracy: {accuracy_score(y_test, y_pred)}\\n')\n",
    "    \n",
    "    print('   ------------ Classification Report -----------')\n",
    "    print(classification_report(y_test, y_pred))\n",
    "    \n",
    "    print('   ------------ Confusion Matrix -------------- ')\n",
    "    cm = confusion_matrix(y_test, y_pred)\n",
    "    \n",
    "    sns.set(rc={'figure.figsize':(10,6)})\n",
    "    sns.heatmap(confusion_matrix(y_test, y_pred), annot=True,cmap = \"Blues\",fmt='d', \n",
    "            xticklabels=['Negative', 'Positive'],\n",
    "            yticklabels=['Negative', 'Positive'])\n",
    "    plt.text(0.5, 0.4, f'True Negative ', ha='center', va='center',color='white')\n",
    "    plt.text(0.5, 1.4, f'False Positive ', ha='center', va='center')\n",
    "    plt.text(1.5, 0.4, f'False Negative ', ha='center', va='center')\n",
    "    plt.text(1.5, 1.4, f'True Positive ', ha='center', va='center',color='white')\n",
    "\n",
    "    plt.xlabel('Predicted')\n",
    "    plt.ylabel('Actual')\n",
    "    plt.title('Confusion Matrix')\n",
    "    plt.show()"
   ]
  },
  {
   "cell_type": "markdown",
   "id": "f364ddbf",
   "metadata": {
    "papermill": {
     "duration": null,
     "end_time": null,
     "exception": null,
     "start_time": null,
     "status": "pending"
    },
    "tags": []
   },
   "source": [
    "#    1. LOGISTIC REGRESSION"
   ]
  },
  {
   "cell_type": "markdown",
   "id": "a5432ba8",
   "metadata": {
    "papermill": {
     "duration": null,
     "end_time": null,
     "exception": null,
     "start_time": null,
     "status": "pending"
    },
    "tags": []
   },
   "source": [
    "###         • Using Bag Of Words (CountVectorizer)"
   ]
  },
  {
   "cell_type": "code",
   "execution_count": null,
   "id": "3a61b4eb",
   "metadata": {
    "papermill": {
     "duration": null,
     "end_time": null,
     "exception": null,
     "start_time": null,
     "status": "pending"
    },
    "tags": []
   },
   "outputs": [],
   "source": [
    "X = df['Tweet']\n",
    "y = df['Sentiment']\n",
    "X_train, X_test, y_train, y_test = train_test_split(X, y, test_size=0.2, random_state=42)\n",
    "\n",
    "count_vectorizer = CountVectorizer()\n",
    "X_train = count_vectorizer.fit_transform(X_train)\n",
    "X_test = count_vectorizer.transform(X_test)\n",
    "lr = LogisticRegression()\n",
    "lr.fit(X_train, y_train)\n",
    "print(\"Logistic Regression (BOW)\\n\")\n",
    "performance_eval(lr,X_test,y_test)\n"
   ]
  },
  {
   "cell_type": "markdown",
   "id": "47ecee4b",
   "metadata": {
    "papermill": {
     "duration": null,
     "end_time": null,
     "exception": null,
     "start_time": null,
     "status": "pending"
    },
    "tags": []
   },
   "source": [
    "###         • Using TF-IDF"
   ]
  },
  {
   "cell_type": "code",
   "execution_count": null,
   "id": "b0bd9219",
   "metadata": {
    "papermill": {
     "duration": null,
     "end_time": null,
     "exception": null,
     "start_time": null,
     "status": "pending"
    },
    "tags": []
   },
   "outputs": [],
   "source": [
    "X_train, X_test, y_train, y_test = train_test_split(X, y, test_size=0.2, random_state=42)\n",
    "tfidf_vectorizer = TfidfVectorizer()\n",
    "X_train_tfidf = tfidf_vectorizer.fit_transform(X_train)\n",
    "X_test_tfidf = tfidf_vectorizer.transform(X_test)\n",
    "lr = LogisticRegression()\n",
    "lr.fit(X_train_tfidf, y_train)\n",
    "print(\"Logistic Regression (TF-IDF)\\n\")\n",
    "performance_eval(lr,X_test_tfidf,y_test)"
   ]
  },
  {
   "cell_type": "markdown",
   "id": "c784e68f",
   "metadata": {
    "papermill": {
     "duration": null,
     "end_time": null,
     "exception": null,
     "start_time": null,
     "status": "pending"
    },
    "tags": []
   },
   "source": [
    "#    2. DECISION TREE"
   ]
  },
  {
   "cell_type": "markdown",
   "id": "35af87db",
   "metadata": {
    "papermill": {
     "duration": null,
     "end_time": null,
     "exception": null,
     "start_time": null,
     "status": "pending"
    },
    "tags": []
   },
   "source": [
    "###         • Using Bag Of Words (CountVectorizer)"
   ]
  },
  {
   "cell_type": "code",
   "execution_count": null,
   "id": "39f72034",
   "metadata": {
    "papermill": {
     "duration": null,
     "end_time": null,
     "exception": null,
     "start_time": null,
     "status": "pending"
    },
    "tags": []
   },
   "outputs": [],
   "source": [
    "X = df['Tweet']\n",
    "y = df['Sentiment']\n",
    "X_train, X_test, y_train, y_test = train_test_split(X, y, test_size=0.2, random_state=42)\n",
    "\n",
    "count_vectorizer = CountVectorizer()\n",
    "X_train = count_vectorizer.fit_transform(X_train)\n",
    "X_test = count_vectorizer.transform(X_test)\n",
    "dt_classifier = DecisionTreeClassifier()\n",
    "dt_classifier.fit(X_train, y_train)\n",
    "print(\"Decision Tree (BOW)\\n\")\n",
    "performance_eval(dt_classifier,X_test,y_test)"
   ]
  },
  {
   "cell_type": "markdown",
   "id": "26aa50ef",
   "metadata": {
    "papermill": {
     "duration": null,
     "end_time": null,
     "exception": null,
     "start_time": null,
     "status": "pending"
    },
    "tags": []
   },
   "source": [
    "###         • Using TF-IDF"
   ]
  },
  {
   "cell_type": "code",
   "execution_count": null,
   "id": "de3fa8aa",
   "metadata": {
    "papermill": {
     "duration": null,
     "end_time": null,
     "exception": null,
     "start_time": null,
     "status": "pending"
    },
    "tags": []
   },
   "outputs": [],
   "source": [
    "X = df['Tweet']\n",
    "y = df['Sentiment']\n",
    "X_train, X_test, y_train, y_test = train_test_split(X, y, test_size=0.2, random_state=42)\n",
    "\n",
    "tfidf_vectorizer = TfidfVectorizer()\n",
    "X_train_tfidf = tfidf_vectorizer.fit_transform(X_train)\n",
    "X_test_tfidf = tfidf_vectorizer.transform(X_test)\n",
    "\n",
    "dt_classifier = DecisionTreeClassifier()\n",
    "dt_classifier.fit(X_train_tfidf, y_train)\n",
    "print(\"Decision Tree (TF-IDF)\\n\")\n",
    "performance_eval(dt_classifier,X_test_tfidf,y_test)\n"
   ]
  },
  {
   "cell_type": "markdown",
   "id": "7406e84c",
   "metadata": {
    "papermill": {
     "duration": null,
     "end_time": null,
     "exception": null,
     "start_time": null,
     "status": "pending"
    },
    "tags": []
   },
   "source": [
    "#    3. RANDOM FOREST"
   ]
  },
  {
   "cell_type": "code",
   "execution_count": null,
   "id": "98ef3ede",
   "metadata": {
    "papermill": {
     "duration": null,
     "end_time": null,
     "exception": null,
     "start_time": null,
     "status": "pending"
    },
    "tags": []
   },
   "outputs": [],
   "source": [
    "X = df['Tweet']\n",
    "y = df['Sentiment']\n",
    "X_train, X_test, y_train, y_test = train_test_split(X, y, test_size=0.2, random_state=42)\n",
    "\n",
    "count_vectorizer = CountVectorizer()\n",
    "X_train = count_vectorizer.fit_transform(X_train)\n",
    "X_test = count_vectorizer.transform(X_test)\n",
    "rf_classifier = RandomForestClassifier()\n",
    "rf_classifier.fit(X_train, y_train)\n",
    "print(\"Random Forest (BOW)\\n\")\n",
    "performance_eval(rf_classifier,X_test,y_test)"
   ]
  },
  {
   "cell_type": "markdown",
   "id": "26506ff7",
   "metadata": {
    "papermill": {
     "duration": null,
     "end_time": null,
     "exception": null,
     "start_time": null,
     "status": "pending"
    },
    "tags": []
   },
   "source": [
    "###         • Using TF-IDF"
   ]
  },
  {
   "cell_type": "code",
   "execution_count": null,
   "id": "74e63f49",
   "metadata": {
    "papermill": {
     "duration": null,
     "end_time": null,
     "exception": null,
     "start_time": null,
     "status": "pending"
    },
    "tags": []
   },
   "outputs": [],
   "source": [
    "X = df['Tweet']\n",
    "y = df['Sentiment']\n",
    "X_train, X_test, y_train, y_test = train_test_split(X, y, test_size=0.2, random_state=42)\n",
    "\n",
    "tfidf_vectorizer = TfidfVectorizer()\n",
    "X_train_tfidf = tfidf_vectorizer.fit_transform(X_train)\n",
    "X_test_tfidf = tfidf_vectorizer.transform(X_test)\n",
    "\n",
    "rf_classifier = RandomForestClassifier()\n",
    "rf_classifier.fit(X_train_tfidf, y_train)\n",
    "print(\"Random Forest (TF-IDF)\\n\")\n",
    "performance_eval(rf_classifier,X_test_tfidf,y_test)\n"
   ]
  },
  {
   "cell_type": "code",
   "execution_count": null,
   "id": "241fedc3",
   "metadata": {
    "papermill": {
     "duration": null,
     "end_time": null,
     "exception": null,
     "start_time": null,
     "status": "pending"
    },
    "tags": []
   },
   "outputs": [],
   "source": [
    "import numpy as np\n",
    "from keras.preprocessing.text import Tokenizer\n",
    "from keras.preprocessing.sequence import pad_sequences\n",
    "from keras.models import Sequential\n",
    "from keras.layers import Embedding, LSTM, Dense\n",
    "from sklearn.model_selection import train_test_split\n",
    "\n",
    "# Assuming df is your DataFrame with columns 'Tweet' and 'Sentiment'\n",
    "X = df['Tweet']\n",
    "y = df['Sentiment']\n",
    "\n",
    "# Tokenize the text\n",
    "tokenizer = Tokenizer()\n",
    "tokenizer.fit_on_texts(X)\n",
    "X_seq = tokenizer.texts_to_sequences(X)\n",
    "\n",
    "# Pad sequences to have consistent length\n",
    "X_padded = pad_sequences(X_seq)\n",
    "\n",
    "# Split the data into training and testing sets\n",
    "X_train, X_test, y_train, y_test = train_test_split(X_padded, y, test_size=0.2, random_state=42)\n",
    "\n",
    "# Build the LSTM model\n",
    "embedding_dim = 50  # You can adjust this based on your data\n",
    "max_length = X_padded.shape[1]\n",
    "\n",
    "model = Sequential()\n",
    "model.add(Embedding(input_dim=len(tokenizer.word_index) + 1, output_dim=embedding_dim, input_length=max_length))\n",
    "model.add(LSTM(100))  # You can adjust the number of LSTM units\n",
    "model.add(Dense(1, activation='sigmoid'))\n",
    "\n",
    "# Compile the model\n",
    "model.compile(optimizer='adam', loss='binary_crossentropy', metrics=['accuracy'])\n",
    "\n",
    "# Train the model\n",
    "model.fit(X_train, y_train, epochs=5, batch_size=32, validation_data=(X_test, y_test))\n",
    "\n",
    "# Evaluate the model\n",
    "loss, accuracy = model.evaluate(X_test, y_test)\n",
    "print(f'LSTM Model Accuracy: {accuracy * 100:.2f}%')\n"
   ]
  },
  {
   "cell_type": "code",
   "execution_count": null,
   "id": "a4cc75b7",
   "metadata": {
    "papermill": {
     "duration": null,
     "end_time": null,
     "exception": null,
     "start_time": null,
     "status": "pending"
    },
    "scrolled": true,
    "tags": []
   },
   "outputs": [],
   "source": [
    "pip install deap"
   ]
  },
  {
   "cell_type": "markdown",
   "id": "bb9cf3ce",
   "metadata": {
    "execution": {
     "iopub.execute_input": "2024-03-11T09:42:08.395766Z",
     "iopub.status.busy": "2024-03-11T09:42:08.394905Z",
     "iopub.status.idle": "2024-03-11T09:42:08.442967Z",
     "shell.execute_reply": "2024-03-11T09:42:08.441619Z",
     "shell.execute_reply.started": "2024-03-11T09:42:08.395724Z"
    },
    "papermill": {
     "duration": null,
     "end_time": null,
     "exception": null,
     "start_time": null,
     "status": "pending"
    },
    "tags": []
   },
   "source": [
    "## Bag Of Words with Decision Tree Using DEAP"
   ]
  },
  {
   "cell_type": "code",
   "execution_count": null,
   "id": "d8dfa387",
   "metadata": {
    "papermill": {
     "duration": null,
     "end_time": null,
     "exception": null,
     "start_time": null,
     "status": "pending"
    },
    "tags": []
   },
   "outputs": [],
   "source": [
    "import pandas as pd\n",
    "import numpy as np\n",
    "import seaborn as sns\n",
    "import matplotlib.pyplot as plt\n",
    "from sklearn.feature_extraction.text import CountVectorizer\n",
    "from sklearn.model_selection import train_test_split\n",
    "from sklearn.tree import DecisionTreeClassifier\n",
    "from sklearn.metrics import accuracy_score, classification_report, confusion_matrix\n",
    "from deap import base, creator, tools, algorithms\n",
    "import random\n",
    "\n",
    "# Assume df is your dataframe with columns 'Tweet' and 'Sentiment'\n",
    "\n",
    "# Feature extraction using Bag of Words\n",
    "vectorizer = CountVectorizer(max_features=1000)  # Adjust max_features as needed\n",
    "X = vectorizer.fit_transform(df['Tweet']).toarray()\n",
    "y = df['Sentiment']\n",
    "\n",
    "# Train-test split\n",
    "X_train, X_test, y_train, y_test = train_test_split(X, y, test_size=0.2, random_state=42)\n",
    "\n",
    "# Define genetic algorithm parameters\n",
    "population_size = 10\n",
    "num_generations = 5\n",
    "crossover_prob = 0.8\n",
    "mutation_prob = 0.2\n",
    "\n",
    "# Create a fitness function\n",
    "def evaluate(individual, X_train, y_train, X_test, y_test):\n",
    "    selected_features = [bool(bit) for bit in individual]\n",
    "    clf = DecisionTreeClassifier(random_state=42)\n",
    "    clf.fit(X_train[:, selected_features], y_train)\n",
    "    y_pred = clf.predict(X_test[:, selected_features])\n",
    "    accuracy = accuracy_score(y_test, y_pred)\n",
    "    return accuracy,\n",
    "\n",
    "# Define genetic algorithm parameters\n",
    "creator.create(\"FitnessMax\", base.Fitness, weights=(1.0,))\n",
    "creator.create(\"Individual\", list, fitness=creator.FitnessMax)\n",
    "\n",
    "toolbox = base.Toolbox()\n",
    "toolbox.register(\"attr_bool\", random.randint, 0, 1)\n",
    "toolbox.register(\"individual\", tools.initRepeat, creator.Individual, toolbox.attr_bool, n=len(X[0]))\n",
    "toolbox.register(\"population\", tools.initRepeat, list, toolbox.individual)\n",
    "toolbox.register(\"evaluate\", evaluate, X_train=X_train, y_train=y_train, X_test=X_test, y_test=y_test)\n",
    "toolbox.register(\"mate\", tools.cxTwoPoint)\n",
    "toolbox.register(\"mutate\", tools.mutFlipBit, indpb=0.05)\n",
    "toolbox.register(\"select\", tools.selTournament, tournsize=3)\n",
    "\n",
    "# Initialize population\n",
    "population = toolbox.population(n=population_size)\n",
    "\n",
    "# Run the genetic algorithm\n",
    "algorithms.eaSimple(population, toolbox, cxpb=crossover_prob, mutpb=mutation_prob, ngen=num_generations, stats=None, halloffame=None)\n",
    "\n",
    "# Get the best individual\n",
    "best_individual = tools.selBest(population, k=1)[0]\n",
    "selected_features = [bool(bit) for bit in best_individual]\n",
    "\n",
    "# Use the selected features in your model\n",
    "final_X_train = X_train[:, selected_features]\n",
    "final_X_test = X_test[:, selected_features]\n",
    "\n",
    "# Train your model using the selected features\n",
    "clf = DecisionTreeClassifier(random_state=42)\n",
    "clf.fit(final_X_train, y_train)\n",
    "\n",
    "# Evaluate the performance\n",
    "performance_eval(clf, final_X_test, y_test)\n",
    "\n",
    "\n"
   ]
  },
  {
   "cell_type": "markdown",
   "id": "d0faf5c3",
   "metadata": {
    "papermill": {
     "duration": null,
     "end_time": null,
     "exception": null,
     "start_time": null,
     "status": "pending"
    },
    "tags": []
   },
   "source": [
    "## Bag Of Words with Random Forest using GA"
   ]
  },
  {
   "cell_type": "code",
   "execution_count": null,
   "id": "09fffc12",
   "metadata": {
    "execution": {
     "iopub.execute_input": "2024-03-08T11:27:06.652613Z",
     "iopub.status.busy": "2024-03-08T11:27:06.652177Z",
     "iopub.status.idle": "2024-03-08T11:49:53.687749Z",
     "shell.execute_reply": "2024-03-08T11:49:53.686773Z",
     "shell.execute_reply.started": "2024-03-08T11:27:06.652572Z"
    },
    "papermill": {
     "duration": null,
     "end_time": null,
     "exception": null,
     "start_time": null,
     "status": "pending"
    },
    "tags": []
   },
   "outputs": [],
   "source": [
    "import numpy as np\n",
    "from sklearn.tree import DecisionTreeClassifier\n",
    "from sklearn.feature_extraction.text import CountVectorizer\n",
    "from sklearn.model_selection import train_test_split\n",
    "from sklearn.metrics import accuracy_score\n",
    "from sklearn.ensemble import RandomForestClassifier\n",
    "from sklearn.model_selection import cross_val_score\n",
    "from tqdm import tqdm  # Import tqdm\n",
    "\n",
    "# Define your dataset and labels\n",
    "X = df[\"Tweet\"].values\n",
    "y = df[\"Sentiment\"].values\n",
    "\n",
    "# Use CountVectorizer for text to convert it into a bag-of-words representation\n",
    "vectorizer = CountVectorizer()\n",
    "X = vectorizer.fit_transform(X)\n",
    "\n",
    "# Define the parameters\n",
    "population_size = 20\n",
    "num_generations = 10\n",
    "crossover_prob = 0.9\n",
    "mutation_prob = 0.1\n",
    "\n",
    "# Function to initialize the population\n",
    "def initialize_population():\n",
    "    return np.random.choice([0, 1], size=(population_size, X.shape[1]))\n",
    "\n",
    "# Function to evaluate the fitness of each individual\n",
    "def evaluate_fitness(population):\n",
    "    accuracies = []\n",
    "    for features in population:\n",
    "        selected_features = np.where(features == 1)[0]\n",
    "        \n",
    "        # Use selected features for training\n",
    "        X_train, X_test, y_train, y_test = train_test_split(X[:, selected_features], y, test_size=0.2, random_state=42)\n",
    "        \n",
    "        clf = DecisionTreeClassifier(random_state=42)\n",
    "        clf.fit(X_train, y_train)\n",
    "        y_pred = clf.predict(X_test)\n",
    "        \n",
    "        accuracy = accuracy_score(y_test, y_pred)\n",
    "        accuracies.append(accuracy)\n",
    "    \n",
    "    return np.array(accuracies)\n",
    "\n",
    "# Function to perform crossover\n",
    "def crossover(parent1, parent2):\n",
    "    crossover_point = np.random.randint(0, len(parent1))\n",
    "    child1 = np.concatenate((parent1[:crossover_point], parent2[crossover_point:]))\n",
    "    child2 = np.concatenate((parent2[:crossover_point], parent1[crossover_point:]))\n",
    "    return child1, child2\n",
    "\n",
    "# Function to perform mutation\n",
    "def mutate(individual):\n",
    "    mutation_points = np.random.rand(len(individual)) < mutation_prob\n",
    "    individual[mutation_points] = 1 - individual[mutation_points]\n",
    "    return individual\n",
    "\n",
    "# Main genetic algorithm loop with tqdm\n",
    "population = initialize_population()\n",
    "for generation in tqdm(range(num_generations), desc='Genetic Algorithm Progress'):\n",
    "    fitness_values = evaluate_fitness(population)\n",
    "\n",
    "    # Select top individuals based on fitness\n",
    "    selected_indices = np.argsort(fitness_values)[::-1][:int(population_size * 0.2)]\n",
    "    selected_population = population[selected_indices]\n",
    "\n",
    "    # Create new population through crossover and mutation\n",
    "    new_population = []\n",
    "    for _ in range(population_size // 2):\n",
    "        parent1, parent2 = selected_population[np.random.choice(len(selected_population), size=2, replace=False)]\n",
    "        child1, child2 = crossover(parent1, parent2)\n",
    "        child1 = mutate(child1)\n",
    "        child2 = mutate(child2)\n",
    "        new_population.extend([child1, child2])\n",
    "\n",
    "    population = np.array(new_population)\n",
    "\n",
    "# Select the best individual from the final population\n",
    "best_individual = population[np.argmax(evaluate_fitness(population))]\n",
    "\n",
    "# Use the selected features for training the final model\n",
    "selected_features = np.where(best_individual == 1)[0]\n",
    "X_train_final, X_test_final, y_train_final, y_test_final = train_test_split(X[:, selected_features], y, test_size=0.2, random_state=42)\n",
    "\n",
    "# Try a Random Forest as the final model\n",
    "final_model = RandomForestClassifier(random_state=42)\n",
    "final_model.fit(X_train_final, y_train_final)\n",
    "\n",
    "# Evaluate the final model using cross-validation\n",
    "cv_accuracy = np.mean(cross_val_score(final_model, X_test_final, y_test_final, cv=5))\n",
    "print(\"Cross-Validation Accuracy:\", cv_accuracy)\n"
   ]
  }
 ],
 "metadata": {
  "kaggle": {
   "accelerator": "gpu",
   "dataSources": [
    {
     "datasetId": 4577035,
     "sourceId": 7813742,
     "sourceType": "datasetVersion"
    }
   ],
   "dockerImageVersionId": 30664,
   "isGpuEnabled": true,
   "isInternetEnabled": true,
   "language": "python",
   "sourceType": "notebook"
  },
  "kernelspec": {
   "display_name": "Python 3",
   "language": "python",
   "name": "python3"
  },
  "language_info": {
   "codemirror_mode": {
    "name": "ipython",
    "version": 3
   },
   "file_extension": ".py",
   "mimetype": "text/x-python",
   "name": "python",
   "nbconvert_exporter": "python",
   "pygments_lexer": "ipython3",
   "version": "3.10.13"
  },
  "papermill": {
   "default_parameters": {},
   "duration": 68.18601,
   "end_time": "2024-03-11T12:21:31.362232",
   "environment_variables": {},
   "exception": true,
   "input_path": "__notebook__.ipynb",
   "output_path": "__notebook__.ipynb",
   "parameters": {},
   "start_time": "2024-03-11T12:20:23.176222",
   "version": "2.5.0"
  }
 },
 "nbformat": 4,
 "nbformat_minor": 5
}
